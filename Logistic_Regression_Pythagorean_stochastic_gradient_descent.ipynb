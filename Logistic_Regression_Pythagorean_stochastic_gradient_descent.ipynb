{
  "nbformat": 4,
  "nbformat_minor": 0,
  "metadata": {
    "colab": {
      "name": "Logistic_Regression_Pythagorean_stochastic_gradient_descent.ipynb",
      "provenance": []
    },
    "kernelspec": {
      "name": "python3",
      "display_name": "Python 3"
    },
    "language_info": {
      "name": "python"
    }
  },
  "cells": [
    {
      "cell_type": "markdown",
      "metadata": {
        "id": "VfEwUm3l_fxo"
      },
      "source": [
        "<H1>Pytegorean win percentage</H1>\n",
        "<p> This notebook has the calculation of a pytegorian win percentage of the 2018 premier league season, the pythagorean win percentage will be used to classified the outcome of the matches. There will be a implementation of Logistic regression using te Stocahastic Gradient Descent to optimize the loss function.\n",
        "<p>The data used in this notebook was taken from <a>https://www.football-data.co.uk/books.php</a> by joseph buchdahl.The implamentation of the logistic regression model was made based on the information in the WebSite \"Real Python\" <a>https://realpython.com/gradient-descent-algorithm-python/</a>. The Pythagorean win percentage topic is explained in <a>https://www.coursera.org/learn/prediction-models-sports-data/</a></p>\n",
        "<ul> Topics\n",
        "  <li>Stochastic Gradient Descent</li>\n",
        "  <li>Logistic Regression</li>\n",
        "  <li>Loss Function</li></ul>\n",
        "\n",
        "<H2>Welcome!!!</H2>\n"
      ]
    },
    {
      "cell_type": "markdown",
      "metadata": {
        "id": "76j6O2zGbQWC"
      },
      "source": [
        "Import Main libraries"
      ]
    },
    {
      "cell_type": "code",
      "metadata": {
        "id": "6cYHF1gEcsLA"
      },
      "source": [
        "import pandas as pd \n",
        "import numpy as np\n",
        "import matplotlib.pyplot as plt\n",
        "import seaborn as sns\n",
        "import tensorflow as tf\n",
        "from sklearn.metrics import confusion_matrix"
      ],
      "execution_count": 70,
      "outputs": []
    },
    {
      "cell_type": "markdown",
      "metadata": {
        "id": "4P1eGrzDeHya"
      },
      "source": [
        "##Load the dataset\n",
        "2018 English Premier League Season"
      ]
    },
    {
      "cell_type": "code",
      "metadata": {
        "colab": {
          "base_uri": "https://localhost:8080/"
        },
        "id": "rNFHKq2ygJyN",
        "outputId": "10db0d86-803d-4e40-db24-a0bf57aec13b"
      },
      "source": [
        "!git clone https://github.com/Hardila-data/Premier_L.git"
      ],
      "execution_count": 71,
      "outputs": [
        {
          "output_type": "stream",
          "text": [
            "Cloning into 'Premier_L'...\n",
            "remote: Enumerating objects: 21, done.\u001b[K\n",
            "remote: Counting objects:   4% (1/21)\u001b[K\rremote: Counting objects:   9% (2/21)\u001b[K\rremote: Counting objects:  14% (3/21)\u001b[K\rremote: Counting objects:  19% (4/21)\u001b[K\rremote: Counting objects:  23% (5/21)\u001b[K\rremote: Counting objects:  28% (6/21)\u001b[K\rremote: Counting objects:  33% (7/21)\u001b[K\rremote: Counting objects:  38% (8/21)\u001b[K\rremote: Counting objects:  42% (9/21)\u001b[K\rremote: Counting objects:  47% (10/21)\u001b[K\rremote: Counting objects:  52% (11/21)\u001b[K\rremote: Counting objects:  57% (12/21)\u001b[K\rremote: Counting objects:  61% (13/21)\u001b[K\rremote: Counting objects:  66% (14/21)\u001b[K\rremote: Counting objects:  71% (15/21)\u001b[K\rremote: Counting objects:  76% (16/21)\u001b[K\rremote: Counting objects:  80% (17/21)\u001b[K\rremote: Counting objects:  85% (18/21)\u001b[K\rremote: Counting objects:  90% (19/21)\u001b[K\rremote: Counting objects:  95% (20/21)\u001b[K\rremote: Counting objects: 100% (21/21)\u001b[K\rremote: Counting objects: 100% (21/21), done.\u001b[K\n",
            "remote: Compressing objects:   5% (1/19)\u001b[K\rremote: Compressing objects:  10% (2/19)\u001b[K\rremote: Compressing objects:  15% (3/19)\u001b[K\rremote: Compressing objects:  21% (4/19)\u001b[K\rremote: Compressing objects:  26% (5/19)\u001b[K\rremote: Compressing objects:  31% (6/19)\u001b[K\rremote: Compressing objects:  36% (7/19)\u001b[K\rremote: Compressing objects:  42% (8/19)\u001b[K\rremote: Compressing objects:  47% (9/19)\u001b[K\rremote: Compressing objects:  52% (10/19)\u001b[K\rremote: Compressing objects:  57% (11/19)\u001b[K\rremote: Compressing objects:  63% (12/19)\u001b[K\rremote: Compressing objects:  68% (13/19)\u001b[K\rremote: Compressing objects:  73% (14/19)\u001b[K\rremote: Compressing objects:  78% (15/19)\u001b[K\rremote: Compressing objects:  84% (16/19)\u001b[K\rremote: Compressing objects:  89% (17/19)\u001b[K\rremote: Compressing objects:  94% (18/19)\u001b[K\rremote: Compressing objects: 100% (19/19)\u001b[K\rremote: Compressing objects: 100% (19/19), done.\u001b[K\n",
            "Unpacking objects:   4% (1/21)   \rUnpacking objects:   9% (2/21)   \rUnpacking objects:  14% (3/21)   \rUnpacking objects:  19% (4/21)   \rUnpacking objects:  23% (5/21)   \rUnpacking objects:  28% (6/21)   \rUnpacking objects:  33% (7/21)   \rUnpacking objects:  38% (8/21)   \rUnpacking objects:  42% (9/21)   \rUnpacking objects:  47% (10/21)   \rUnpacking objects:  52% (11/21)   \rUnpacking objects:  57% (12/21)   \rUnpacking objects:  61% (13/21)   \rUnpacking objects:  66% (14/21)   \rremote: Total 21 (delta 3), reused 0 (delta 0), pack-reused 0\u001b[K\n",
            "Unpacking objects:  71% (15/21)   \rUnpacking objects:  76% (16/21)   \rUnpacking objects:  80% (17/21)   \rUnpacking objects:  85% (18/21)   \rUnpacking objects:  90% (19/21)   \rUnpacking objects:  95% (20/21)   \rUnpacking objects: 100% (21/21)   \rUnpacking objects: 100% (21/21), done.\n"
          ],
          "name": "stdout"
        }
      ]
    },
    {
      "cell_type": "markdown",
      "metadata": {
        "id": "NhIaY9vBjJ_2"
      },
      "source": [
        "Dataframe the English Premeir League 2018 season."
      ]
    },
    {
      "cell_type": "code",
      "metadata": {
        "colab": {
          "base_uri": "https://localhost:8080/",
          "height": 292
        },
        "id": "v0ebf_BZdSCM",
        "outputId": "614825f7-062b-4161-b864-e0155638d61e"
      },
      "source": [
        "url = 'Premier_L/Premier_League_2018.csv'\n",
        "df1 = pd.read_csv(url)\n",
        "df1.head()"
      ],
      "execution_count": 72,
      "outputs": [
        {
          "output_type": "execute_result",
          "data": {
            "text/html": [
              "<div>\n",
              "<style scoped>\n",
              "    .dataframe tbody tr th:only-of-type {\n",
              "        vertical-align: middle;\n",
              "    }\n",
              "\n",
              "    .dataframe tbody tr th {\n",
              "        vertical-align: top;\n",
              "    }\n",
              "\n",
              "    .dataframe thead th {\n",
              "        text-align: right;\n",
              "    }\n",
              "</style>\n",
              "<table border=\"1\" class=\"dataframe\">\n",
              "  <thead>\n",
              "    <tr style=\"text-align: right;\">\n",
              "      <th></th>\n",
              "      <th>Div</th>\n",
              "      <th>Date</th>\n",
              "      <th>HomeTeam</th>\n",
              "      <th>AwayTeam</th>\n",
              "      <th>FTHG</th>\n",
              "      <th>FTAG</th>\n",
              "      <th>FTR</th>\n",
              "      <th>HTHG</th>\n",
              "      <th>HTAG</th>\n",
              "      <th>HTR</th>\n",
              "      <th>Referee</th>\n",
              "      <th>HS</th>\n",
              "      <th>AS</th>\n",
              "      <th>HST</th>\n",
              "      <th>AST</th>\n",
              "      <th>HF</th>\n",
              "      <th>AF</th>\n",
              "      <th>HC</th>\n",
              "      <th>AC</th>\n",
              "      <th>HY</th>\n",
              "      <th>AY</th>\n",
              "      <th>HR</th>\n",
              "      <th>AR</th>\n",
              "      <th>B365H</th>\n",
              "      <th>B365D</th>\n",
              "      <th>B365A</th>\n",
              "      <th>BWH</th>\n",
              "      <th>BWD</th>\n",
              "      <th>BWA</th>\n",
              "      <th>IWH</th>\n",
              "      <th>IWD</th>\n",
              "      <th>IWA</th>\n",
              "      <th>PSH</th>\n",
              "      <th>PSD</th>\n",
              "      <th>PSA</th>\n",
              "      <th>WHH</th>\n",
              "      <th>WHD</th>\n",
              "      <th>WHA</th>\n",
              "      <th>VCH</th>\n",
              "      <th>VCD</th>\n",
              "      <th>VCA</th>\n",
              "      <th>Bb1X2</th>\n",
              "      <th>BbMxH</th>\n",
              "      <th>BbAvH</th>\n",
              "      <th>BbMxD</th>\n",
              "      <th>BbAvD</th>\n",
              "      <th>BbMxA</th>\n",
              "      <th>BbAvA</th>\n",
              "      <th>BbOU</th>\n",
              "      <th>BbMx&gt;2.5</th>\n",
              "      <th>BbAv&gt;2.5</th>\n",
              "      <th>BbMx&lt;2.5</th>\n",
              "      <th>BbAv&lt;2.5</th>\n",
              "      <th>BbAH</th>\n",
              "      <th>BbAHh</th>\n",
              "      <th>BbMxAHH</th>\n",
              "      <th>BbAvAHH</th>\n",
              "      <th>BbMxAHA</th>\n",
              "      <th>BbAvAHA</th>\n",
              "      <th>PSCH</th>\n",
              "      <th>PSCD</th>\n",
              "      <th>PSCA</th>\n",
              "    </tr>\n",
              "  </thead>\n",
              "  <tbody>\n",
              "    <tr>\n",
              "      <th>0</th>\n",
              "      <td>E0</td>\n",
              "      <td>10/08/2018</td>\n",
              "      <td>Man United</td>\n",
              "      <td>Leicester</td>\n",
              "      <td>2</td>\n",
              "      <td>1</td>\n",
              "      <td>H</td>\n",
              "      <td>1</td>\n",
              "      <td>0</td>\n",
              "      <td>H</td>\n",
              "      <td>A Marriner</td>\n",
              "      <td>8</td>\n",
              "      <td>13</td>\n",
              "      <td>6</td>\n",
              "      <td>4</td>\n",
              "      <td>11</td>\n",
              "      <td>8</td>\n",
              "      <td>2</td>\n",
              "      <td>5</td>\n",
              "      <td>2</td>\n",
              "      <td>1</td>\n",
              "      <td>0</td>\n",
              "      <td>0</td>\n",
              "      <td>1.57</td>\n",
              "      <td>3.9</td>\n",
              "      <td>7.50</td>\n",
              "      <td>1.53</td>\n",
              "      <td>4.0</td>\n",
              "      <td>7.50</td>\n",
              "      <td>1.55</td>\n",
              "      <td>3.80</td>\n",
              "      <td>7.00</td>\n",
              "      <td>1.58</td>\n",
              "      <td>3.93</td>\n",
              "      <td>7.50</td>\n",
              "      <td>1.57</td>\n",
              "      <td>3.8</td>\n",
              "      <td>6.00</td>\n",
              "      <td>1.57</td>\n",
              "      <td>4.0</td>\n",
              "      <td>7.00</td>\n",
              "      <td>39</td>\n",
              "      <td>1.60</td>\n",
              "      <td>1.56</td>\n",
              "      <td>4.20</td>\n",
              "      <td>3.92</td>\n",
              "      <td>8.05</td>\n",
              "      <td>7.06</td>\n",
              "      <td>38</td>\n",
              "      <td>2.12</td>\n",
              "      <td>2.03</td>\n",
              "      <td>1.85</td>\n",
              "      <td>1.79</td>\n",
              "      <td>17</td>\n",
              "      <td>-0.75</td>\n",
              "      <td>1.75</td>\n",
              "      <td>1.70</td>\n",
              "      <td>2.29</td>\n",
              "      <td>2.21</td>\n",
              "      <td>1.55</td>\n",
              "      <td>4.07</td>\n",
              "      <td>7.69</td>\n",
              "    </tr>\n",
              "    <tr>\n",
              "      <th>1</th>\n",
              "      <td>E0</td>\n",
              "      <td>11/08/2018</td>\n",
              "      <td>Bournemouth</td>\n",
              "      <td>Cardiff</td>\n",
              "      <td>2</td>\n",
              "      <td>0</td>\n",
              "      <td>H</td>\n",
              "      <td>1</td>\n",
              "      <td>0</td>\n",
              "      <td>H</td>\n",
              "      <td>K Friend</td>\n",
              "      <td>12</td>\n",
              "      <td>10</td>\n",
              "      <td>4</td>\n",
              "      <td>1</td>\n",
              "      <td>11</td>\n",
              "      <td>9</td>\n",
              "      <td>7</td>\n",
              "      <td>4</td>\n",
              "      <td>1</td>\n",
              "      <td>1</td>\n",
              "      <td>0</td>\n",
              "      <td>0</td>\n",
              "      <td>1.90</td>\n",
              "      <td>3.6</td>\n",
              "      <td>4.50</td>\n",
              "      <td>1.90</td>\n",
              "      <td>3.4</td>\n",
              "      <td>4.40</td>\n",
              "      <td>1.90</td>\n",
              "      <td>3.50</td>\n",
              "      <td>4.10</td>\n",
              "      <td>1.89</td>\n",
              "      <td>3.63</td>\n",
              "      <td>4.58</td>\n",
              "      <td>1.91</td>\n",
              "      <td>3.5</td>\n",
              "      <td>4.00</td>\n",
              "      <td>1.87</td>\n",
              "      <td>3.6</td>\n",
              "      <td>4.75</td>\n",
              "      <td>39</td>\n",
              "      <td>1.93</td>\n",
              "      <td>1.88</td>\n",
              "      <td>3.71</td>\n",
              "      <td>3.53</td>\n",
              "      <td>4.75</td>\n",
              "      <td>4.37</td>\n",
              "      <td>38</td>\n",
              "      <td>2.05</td>\n",
              "      <td>1.98</td>\n",
              "      <td>1.92</td>\n",
              "      <td>1.83</td>\n",
              "      <td>20</td>\n",
              "      <td>-0.75</td>\n",
              "      <td>2.20</td>\n",
              "      <td>2.13</td>\n",
              "      <td>1.80</td>\n",
              "      <td>1.75</td>\n",
              "      <td>1.88</td>\n",
              "      <td>3.61</td>\n",
              "      <td>4.70</td>\n",
              "    </tr>\n",
              "    <tr>\n",
              "      <th>2</th>\n",
              "      <td>E0</td>\n",
              "      <td>11/08/2018</td>\n",
              "      <td>Fulham</td>\n",
              "      <td>Crystal Palace</td>\n",
              "      <td>0</td>\n",
              "      <td>2</td>\n",
              "      <td>A</td>\n",
              "      <td>0</td>\n",
              "      <td>1</td>\n",
              "      <td>A</td>\n",
              "      <td>M Dean</td>\n",
              "      <td>15</td>\n",
              "      <td>10</td>\n",
              "      <td>6</td>\n",
              "      <td>9</td>\n",
              "      <td>9</td>\n",
              "      <td>11</td>\n",
              "      <td>5</td>\n",
              "      <td>5</td>\n",
              "      <td>1</td>\n",
              "      <td>2</td>\n",
              "      <td>0</td>\n",
              "      <td>0</td>\n",
              "      <td>2.50</td>\n",
              "      <td>3.4</td>\n",
              "      <td>3.00</td>\n",
              "      <td>2.45</td>\n",
              "      <td>3.3</td>\n",
              "      <td>2.95</td>\n",
              "      <td>2.40</td>\n",
              "      <td>3.30</td>\n",
              "      <td>2.95</td>\n",
              "      <td>2.50</td>\n",
              "      <td>3.46</td>\n",
              "      <td>3.00</td>\n",
              "      <td>2.45</td>\n",
              "      <td>3.3</td>\n",
              "      <td>2.80</td>\n",
              "      <td>2.50</td>\n",
              "      <td>3.4</td>\n",
              "      <td>3.00</td>\n",
              "      <td>39</td>\n",
              "      <td>2.60</td>\n",
              "      <td>2.47</td>\n",
              "      <td>3.49</td>\n",
              "      <td>3.35</td>\n",
              "      <td>3.05</td>\n",
              "      <td>2.92</td>\n",
              "      <td>38</td>\n",
              "      <td>2.00</td>\n",
              "      <td>1.95</td>\n",
              "      <td>1.96</td>\n",
              "      <td>1.87</td>\n",
              "      <td>22</td>\n",
              "      <td>-0.25</td>\n",
              "      <td>2.18</td>\n",
              "      <td>2.11</td>\n",
              "      <td>1.81</td>\n",
              "      <td>1.77</td>\n",
              "      <td>2.62</td>\n",
              "      <td>3.38</td>\n",
              "      <td>2.90</td>\n",
              "    </tr>\n",
              "    <tr>\n",
              "      <th>3</th>\n",
              "      <td>E0</td>\n",
              "      <td>11/08/2018</td>\n",
              "      <td>Huddersfield</td>\n",
              "      <td>Chelsea</td>\n",
              "      <td>0</td>\n",
              "      <td>3</td>\n",
              "      <td>A</td>\n",
              "      <td>0</td>\n",
              "      <td>2</td>\n",
              "      <td>A</td>\n",
              "      <td>C Kavanagh</td>\n",
              "      <td>6</td>\n",
              "      <td>13</td>\n",
              "      <td>1</td>\n",
              "      <td>4</td>\n",
              "      <td>9</td>\n",
              "      <td>8</td>\n",
              "      <td>2</td>\n",
              "      <td>5</td>\n",
              "      <td>2</td>\n",
              "      <td>1</td>\n",
              "      <td>0</td>\n",
              "      <td>0</td>\n",
              "      <td>6.50</td>\n",
              "      <td>4.0</td>\n",
              "      <td>1.61</td>\n",
              "      <td>6.25</td>\n",
              "      <td>3.9</td>\n",
              "      <td>1.57</td>\n",
              "      <td>6.20</td>\n",
              "      <td>4.00</td>\n",
              "      <td>1.55</td>\n",
              "      <td>6.41</td>\n",
              "      <td>4.02</td>\n",
              "      <td>1.62</td>\n",
              "      <td>5.80</td>\n",
              "      <td>3.9</td>\n",
              "      <td>1.57</td>\n",
              "      <td>6.50</td>\n",
              "      <td>4.0</td>\n",
              "      <td>1.62</td>\n",
              "      <td>38</td>\n",
              "      <td>6.85</td>\n",
              "      <td>6.09</td>\n",
              "      <td>4.07</td>\n",
              "      <td>3.90</td>\n",
              "      <td>1.66</td>\n",
              "      <td>1.61</td>\n",
              "      <td>37</td>\n",
              "      <td>2.05</td>\n",
              "      <td>1.98</td>\n",
              "      <td>1.90</td>\n",
              "      <td>1.84</td>\n",
              "      <td>23</td>\n",
              "      <td>1.00</td>\n",
              "      <td>1.84</td>\n",
              "      <td>1.80</td>\n",
              "      <td>2.13</td>\n",
              "      <td>2.06</td>\n",
              "      <td>7.24</td>\n",
              "      <td>3.95</td>\n",
              "      <td>1.58</td>\n",
              "    </tr>\n",
              "    <tr>\n",
              "      <th>4</th>\n",
              "      <td>E0</td>\n",
              "      <td>11/08/2018</td>\n",
              "      <td>Newcastle</td>\n",
              "      <td>Tottenham</td>\n",
              "      <td>1</td>\n",
              "      <td>2</td>\n",
              "      <td>A</td>\n",
              "      <td>1</td>\n",
              "      <td>2</td>\n",
              "      <td>A</td>\n",
              "      <td>M Atkinson</td>\n",
              "      <td>15</td>\n",
              "      <td>15</td>\n",
              "      <td>2</td>\n",
              "      <td>5</td>\n",
              "      <td>11</td>\n",
              "      <td>12</td>\n",
              "      <td>3</td>\n",
              "      <td>5</td>\n",
              "      <td>2</td>\n",
              "      <td>2</td>\n",
              "      <td>0</td>\n",
              "      <td>0</td>\n",
              "      <td>3.90</td>\n",
              "      <td>3.5</td>\n",
              "      <td>2.04</td>\n",
              "      <td>3.80</td>\n",
              "      <td>3.5</td>\n",
              "      <td>2.00</td>\n",
              "      <td>3.70</td>\n",
              "      <td>3.35</td>\n",
              "      <td>2.05</td>\n",
              "      <td>3.83</td>\n",
              "      <td>3.57</td>\n",
              "      <td>2.08</td>\n",
              "      <td>3.80</td>\n",
              "      <td>3.2</td>\n",
              "      <td>2.05</td>\n",
              "      <td>3.90</td>\n",
              "      <td>3.4</td>\n",
              "      <td>2.10</td>\n",
              "      <td>39</td>\n",
              "      <td>4.01</td>\n",
              "      <td>3.83</td>\n",
              "      <td>3.57</td>\n",
              "      <td>3.40</td>\n",
              "      <td>2.12</td>\n",
              "      <td>2.05</td>\n",
              "      <td>38</td>\n",
              "      <td>2.10</td>\n",
              "      <td>2.01</td>\n",
              "      <td>1.88</td>\n",
              "      <td>1.81</td>\n",
              "      <td>20</td>\n",
              "      <td>0.25</td>\n",
              "      <td>2.20</td>\n",
              "      <td>2.12</td>\n",
              "      <td>1.80</td>\n",
              "      <td>1.76</td>\n",
              "      <td>4.74</td>\n",
              "      <td>3.53</td>\n",
              "      <td>1.89</td>\n",
              "    </tr>\n",
              "  </tbody>\n",
              "</table>\n",
              "</div>"
            ],
            "text/plain": [
              "  Div        Date      HomeTeam        AwayTeam  ...  BbAvAHA  PSCH  PSCD  PSCA\n",
              "0  E0  10/08/2018    Man United       Leicester  ...     2.21  1.55  4.07  7.69\n",
              "1  E0  11/08/2018   Bournemouth         Cardiff  ...     1.75  1.88  3.61  4.70\n",
              "2  E0  11/08/2018        Fulham  Crystal Palace  ...     1.77  2.62  3.38  2.90\n",
              "3  E0  11/08/2018  Huddersfield         Chelsea  ...     2.06  7.24  3.95  1.58\n",
              "4  E0  11/08/2018     Newcastle       Tottenham  ...     1.76  4.74  3.53  1.89\n",
              "\n",
              "[5 rows x 62 columns]"
            ]
          },
          "metadata": {
            "tags": []
          },
          "execution_count": 72
        }
      ]
    },
    {
      "cell_type": "markdown",
      "metadata": {
        "id": "hwRFgCADbm2e"
      },
      "source": [
        "Add new column to the dataframe to count the number of games."
      ]
    },
    {
      "cell_type": "code",
      "metadata": {
        "id": "ShgB-Zxvoh1w"
      },
      "source": [
        "df1['cnt'] = 1"
      ],
      "execution_count": 73,
      "outputs": []
    },
    {
      "cell_type": "markdown",
      "metadata": {
        "id": "-8_9YcAzkSmY"
      },
      "source": [
        "Making a selection of the columns that are important to obtained the pythagorean win percentage and predict the final outcome."
      ]
    },
    {
      "cell_type": "code",
      "metadata": {
        "id": "vYqA9-KgkSmZ"
      },
      "source": [
        "columns_matters = ['Date', 'HomeTeam','AwayTeam','FTHG'\t,'FTAG'\t,'FTR','cnt']"
      ],
      "execution_count": 74,
      "outputs": []
    },
    {
      "cell_type": "code",
      "metadata": {
        "colab": {
          "base_uri": "https://localhost:8080/",
          "height": 204
        },
        "id": "YOrzxkA5kSma",
        "outputId": "58a87d61-c495-4f85-c1fb-28ca98eab99e"
      },
      "source": [
        "df_new = df1[columns_matters]\n",
        "df_new.head()"
      ],
      "execution_count": 75,
      "outputs": [
        {
          "output_type": "execute_result",
          "data": {
            "text/html": [
              "<div>\n",
              "<style scoped>\n",
              "    .dataframe tbody tr th:only-of-type {\n",
              "        vertical-align: middle;\n",
              "    }\n",
              "\n",
              "    .dataframe tbody tr th {\n",
              "        vertical-align: top;\n",
              "    }\n",
              "\n",
              "    .dataframe thead th {\n",
              "        text-align: right;\n",
              "    }\n",
              "</style>\n",
              "<table border=\"1\" class=\"dataframe\">\n",
              "  <thead>\n",
              "    <tr style=\"text-align: right;\">\n",
              "      <th></th>\n",
              "      <th>Date</th>\n",
              "      <th>HomeTeam</th>\n",
              "      <th>AwayTeam</th>\n",
              "      <th>FTHG</th>\n",
              "      <th>FTAG</th>\n",
              "      <th>FTR</th>\n",
              "      <th>cnt</th>\n",
              "    </tr>\n",
              "  </thead>\n",
              "  <tbody>\n",
              "    <tr>\n",
              "      <th>0</th>\n",
              "      <td>10/08/2018</td>\n",
              "      <td>Man United</td>\n",
              "      <td>Leicester</td>\n",
              "      <td>2</td>\n",
              "      <td>1</td>\n",
              "      <td>H</td>\n",
              "      <td>1</td>\n",
              "    </tr>\n",
              "    <tr>\n",
              "      <th>1</th>\n",
              "      <td>11/08/2018</td>\n",
              "      <td>Bournemouth</td>\n",
              "      <td>Cardiff</td>\n",
              "      <td>2</td>\n",
              "      <td>0</td>\n",
              "      <td>H</td>\n",
              "      <td>1</td>\n",
              "    </tr>\n",
              "    <tr>\n",
              "      <th>2</th>\n",
              "      <td>11/08/2018</td>\n",
              "      <td>Fulham</td>\n",
              "      <td>Crystal Palace</td>\n",
              "      <td>0</td>\n",
              "      <td>2</td>\n",
              "      <td>A</td>\n",
              "      <td>1</td>\n",
              "    </tr>\n",
              "    <tr>\n",
              "      <th>3</th>\n",
              "      <td>11/08/2018</td>\n",
              "      <td>Huddersfield</td>\n",
              "      <td>Chelsea</td>\n",
              "      <td>0</td>\n",
              "      <td>3</td>\n",
              "      <td>A</td>\n",
              "      <td>1</td>\n",
              "    </tr>\n",
              "    <tr>\n",
              "      <th>4</th>\n",
              "      <td>11/08/2018</td>\n",
              "      <td>Newcastle</td>\n",
              "      <td>Tottenham</td>\n",
              "      <td>1</td>\n",
              "      <td>2</td>\n",
              "      <td>A</td>\n",
              "      <td>1</td>\n",
              "    </tr>\n",
              "  </tbody>\n",
              "</table>\n",
              "</div>"
            ],
            "text/plain": [
              "         Date      HomeTeam        AwayTeam  FTHG  FTAG FTR  cnt\n",
              "0  10/08/2018    Man United       Leicester     2     1   H    1\n",
              "1  11/08/2018   Bournemouth         Cardiff     2     0   H    1\n",
              "2  11/08/2018        Fulham  Crystal Palace     0     2   A    1\n",
              "3  11/08/2018  Huddersfield         Chelsea     0     3   A    1\n",
              "4  11/08/2018     Newcastle       Tottenham     1     2   A    1"
            ]
          },
          "metadata": {
            "tags": []
          },
          "execution_count": 75
        }
      ]
    },
    {
      "cell_type": "markdown",
      "metadata": {
        "id": "_FSHSR-RkDmi"
      },
      "source": [
        "According to the final outcome of the games there will be give 1 to the winner, 0.5 in a draw case and 0 to the losser."
      ]
    },
    {
      "cell_type": "code",
      "metadata": {
        "colab": {
          "base_uri": "https://localhost:8080/",
          "height": 204
        },
        "id": "aVem-99Pwp-P",
        "outputId": "633627ba-5ddb-480f-e34e-d3d4d3f9ecf4"
      },
      "source": [
        "df_new = df_new.assign(home_winvalue_2018 = np.where(df_new['FTR']=='H',1,np.where(df_new['FTR']=='D',.5,0)))\n",
        "df_new = df_new.assign(away_winvalue_2018 = np.where(df_new['FTR']=='A',1,np.where(df_new['FTR']=='D',.5,0)))\n",
        "df_new.head()"
      ],
      "execution_count": 76,
      "outputs": [
        {
          "output_type": "execute_result",
          "data": {
            "text/html": [
              "<div>\n",
              "<style scoped>\n",
              "    .dataframe tbody tr th:only-of-type {\n",
              "        vertical-align: middle;\n",
              "    }\n",
              "\n",
              "    .dataframe tbody tr th {\n",
              "        vertical-align: top;\n",
              "    }\n",
              "\n",
              "    .dataframe thead th {\n",
              "        text-align: right;\n",
              "    }\n",
              "</style>\n",
              "<table border=\"1\" class=\"dataframe\">\n",
              "  <thead>\n",
              "    <tr style=\"text-align: right;\">\n",
              "      <th></th>\n",
              "      <th>Date</th>\n",
              "      <th>HomeTeam</th>\n",
              "      <th>AwayTeam</th>\n",
              "      <th>FTHG</th>\n",
              "      <th>FTAG</th>\n",
              "      <th>FTR</th>\n",
              "      <th>cnt</th>\n",
              "      <th>home_winvalue_2018</th>\n",
              "      <th>away_winvalue_2018</th>\n",
              "    </tr>\n",
              "  </thead>\n",
              "  <tbody>\n",
              "    <tr>\n",
              "      <th>0</th>\n",
              "      <td>10/08/2018</td>\n",
              "      <td>Man United</td>\n",
              "      <td>Leicester</td>\n",
              "      <td>2</td>\n",
              "      <td>1</td>\n",
              "      <td>H</td>\n",
              "      <td>1</td>\n",
              "      <td>1.0</td>\n",
              "      <td>0.0</td>\n",
              "    </tr>\n",
              "    <tr>\n",
              "      <th>1</th>\n",
              "      <td>11/08/2018</td>\n",
              "      <td>Bournemouth</td>\n",
              "      <td>Cardiff</td>\n",
              "      <td>2</td>\n",
              "      <td>0</td>\n",
              "      <td>H</td>\n",
              "      <td>1</td>\n",
              "      <td>1.0</td>\n",
              "      <td>0.0</td>\n",
              "    </tr>\n",
              "    <tr>\n",
              "      <th>2</th>\n",
              "      <td>11/08/2018</td>\n",
              "      <td>Fulham</td>\n",
              "      <td>Crystal Palace</td>\n",
              "      <td>0</td>\n",
              "      <td>2</td>\n",
              "      <td>A</td>\n",
              "      <td>1</td>\n",
              "      <td>0.0</td>\n",
              "      <td>1.0</td>\n",
              "    </tr>\n",
              "    <tr>\n",
              "      <th>3</th>\n",
              "      <td>11/08/2018</td>\n",
              "      <td>Huddersfield</td>\n",
              "      <td>Chelsea</td>\n",
              "      <td>0</td>\n",
              "      <td>3</td>\n",
              "      <td>A</td>\n",
              "      <td>1</td>\n",
              "      <td>0.0</td>\n",
              "      <td>1.0</td>\n",
              "    </tr>\n",
              "    <tr>\n",
              "      <th>4</th>\n",
              "      <td>11/08/2018</td>\n",
              "      <td>Newcastle</td>\n",
              "      <td>Tottenham</td>\n",
              "      <td>1</td>\n",
              "      <td>2</td>\n",
              "      <td>A</td>\n",
              "      <td>1</td>\n",
              "      <td>0.0</td>\n",
              "      <td>1.0</td>\n",
              "    </tr>\n",
              "  </tbody>\n",
              "</table>\n",
              "</div>"
            ],
            "text/plain": [
              "         Date      HomeTeam  ... home_winvalue_2018  away_winvalue_2018\n",
              "0  10/08/2018    Man United  ...                1.0                 0.0\n",
              "1  11/08/2018   Bournemouth  ...                1.0                 0.0\n",
              "2  11/08/2018        Fulham  ...                0.0                 1.0\n",
              "3  11/08/2018  Huddersfield  ...                0.0                 1.0\n",
              "4  11/08/2018     Newcastle  ...                0.0                 1.0\n",
              "\n",
              "[5 rows x 9 columns]"
            ]
          },
          "metadata": {
            "tags": []
          },
          "execution_count": 76
        }
      ]
    },
    {
      "cell_type": "markdown",
      "metadata": {
        "id": "BIuVkN2mkdGg"
      },
      "source": [
        "To convert the categorical feature FTR into numerical it will use np.get_dummyes. Three new columns are generated. \n",
        "<p> FTR_A = Away winner as final outcome.\n",
        "<p> FTR_D\t= Draw as a final outcome.\n",
        "<p> FTR_H = Home winner as a fina outcome."
      ]
    },
    {
      "cell_type": "code",
      "metadata": {
        "colab": {
          "base_uri": "https://localhost:8080/",
          "height": 204
        },
        "id": "DA0lrMCchfjw",
        "outputId": "782b9d46-7aaf-42b2-e729-b6c643eb713d"
      },
      "source": [
        "df_new = pd.get_dummies(data=df_new,columns=['FTR'])\n",
        "df_new.head()"
      ],
      "execution_count": 77,
      "outputs": [
        {
          "output_type": "execute_result",
          "data": {
            "text/html": [
              "<div>\n",
              "<style scoped>\n",
              "    .dataframe tbody tr th:only-of-type {\n",
              "        vertical-align: middle;\n",
              "    }\n",
              "\n",
              "    .dataframe tbody tr th {\n",
              "        vertical-align: top;\n",
              "    }\n",
              "\n",
              "    .dataframe thead th {\n",
              "        text-align: right;\n",
              "    }\n",
              "</style>\n",
              "<table border=\"1\" class=\"dataframe\">\n",
              "  <thead>\n",
              "    <tr style=\"text-align: right;\">\n",
              "      <th></th>\n",
              "      <th>Date</th>\n",
              "      <th>HomeTeam</th>\n",
              "      <th>AwayTeam</th>\n",
              "      <th>FTHG</th>\n",
              "      <th>FTAG</th>\n",
              "      <th>cnt</th>\n",
              "      <th>home_winvalue_2018</th>\n",
              "      <th>away_winvalue_2018</th>\n",
              "      <th>FTR_A</th>\n",
              "      <th>FTR_D</th>\n",
              "      <th>FTR_H</th>\n",
              "    </tr>\n",
              "  </thead>\n",
              "  <tbody>\n",
              "    <tr>\n",
              "      <th>0</th>\n",
              "      <td>10/08/2018</td>\n",
              "      <td>Man United</td>\n",
              "      <td>Leicester</td>\n",
              "      <td>2</td>\n",
              "      <td>1</td>\n",
              "      <td>1</td>\n",
              "      <td>1.0</td>\n",
              "      <td>0.0</td>\n",
              "      <td>0</td>\n",
              "      <td>0</td>\n",
              "      <td>1</td>\n",
              "    </tr>\n",
              "    <tr>\n",
              "      <th>1</th>\n",
              "      <td>11/08/2018</td>\n",
              "      <td>Bournemouth</td>\n",
              "      <td>Cardiff</td>\n",
              "      <td>2</td>\n",
              "      <td>0</td>\n",
              "      <td>1</td>\n",
              "      <td>1.0</td>\n",
              "      <td>0.0</td>\n",
              "      <td>0</td>\n",
              "      <td>0</td>\n",
              "      <td>1</td>\n",
              "    </tr>\n",
              "    <tr>\n",
              "      <th>2</th>\n",
              "      <td>11/08/2018</td>\n",
              "      <td>Fulham</td>\n",
              "      <td>Crystal Palace</td>\n",
              "      <td>0</td>\n",
              "      <td>2</td>\n",
              "      <td>1</td>\n",
              "      <td>0.0</td>\n",
              "      <td>1.0</td>\n",
              "      <td>1</td>\n",
              "      <td>0</td>\n",
              "      <td>0</td>\n",
              "    </tr>\n",
              "    <tr>\n",
              "      <th>3</th>\n",
              "      <td>11/08/2018</td>\n",
              "      <td>Huddersfield</td>\n",
              "      <td>Chelsea</td>\n",
              "      <td>0</td>\n",
              "      <td>3</td>\n",
              "      <td>1</td>\n",
              "      <td>0.0</td>\n",
              "      <td>1.0</td>\n",
              "      <td>1</td>\n",
              "      <td>0</td>\n",
              "      <td>0</td>\n",
              "    </tr>\n",
              "    <tr>\n",
              "      <th>4</th>\n",
              "      <td>11/08/2018</td>\n",
              "      <td>Newcastle</td>\n",
              "      <td>Tottenham</td>\n",
              "      <td>1</td>\n",
              "      <td>2</td>\n",
              "      <td>1</td>\n",
              "      <td>0.0</td>\n",
              "      <td>1.0</td>\n",
              "      <td>1</td>\n",
              "      <td>0</td>\n",
              "      <td>0</td>\n",
              "    </tr>\n",
              "  </tbody>\n",
              "</table>\n",
              "</div>"
            ],
            "text/plain": [
              "         Date      HomeTeam        AwayTeam  ...  FTR_A  FTR_D  FTR_H\n",
              "0  10/08/2018    Man United       Leicester  ...      0      0      1\n",
              "1  11/08/2018   Bournemouth         Cardiff  ...      0      0      1\n",
              "2  11/08/2018        Fulham  Crystal Palace  ...      1      0      0\n",
              "3  11/08/2018  Huddersfield         Chelsea  ...      1      0      0\n",
              "4  11/08/2018     Newcastle       Tottenham  ...      1      0      0\n",
              "\n",
              "[5 rows x 11 columns]"
            ]
          },
          "metadata": {
            "tags": []
          },
          "execution_count": 77
        }
      ]
    },
    {
      "cell_type": "markdown",
      "metadata": {
        "id": "fuvF7OQvi3Vg"
      },
      "source": [
        "Create two new dataframes by HomeTeam and Away Team.\n",
        "<p>HomeTeam Dataframe</p>"
      ]
    },
    {
      "cell_type": "code",
      "metadata": {
        "colab": {
          "base_uri": "https://localhost:8080/",
          "height": 204
        },
        "id": "jgYGhq4biuj_",
        "outputId": "7a76b2da-78b4-4907-df11-72fb56c94533"
      },
      "source": [
        "df_home = df_new[['HomeTeam','FTHG','FTAG','cnt','home_winvalue_2018'\t,'away_winvalue_2018','FTR_H']]\n",
        "df_home = df_home.rename(columns={'HomeTeam':'team', 'FTHG':'GOL_FOR', 'FTAG':'GOL_AG', 'FTR_H':'win_lose'})\n",
        "df_home.head()"
      ],
      "execution_count": 78,
      "outputs": [
        {
          "output_type": "execute_result",
          "data": {
            "text/html": [
              "<div>\n",
              "<style scoped>\n",
              "    .dataframe tbody tr th:only-of-type {\n",
              "        vertical-align: middle;\n",
              "    }\n",
              "\n",
              "    .dataframe tbody tr th {\n",
              "        vertical-align: top;\n",
              "    }\n",
              "\n",
              "    .dataframe thead th {\n",
              "        text-align: right;\n",
              "    }\n",
              "</style>\n",
              "<table border=\"1\" class=\"dataframe\">\n",
              "  <thead>\n",
              "    <tr style=\"text-align: right;\">\n",
              "      <th></th>\n",
              "      <th>team</th>\n",
              "      <th>GOL_FOR</th>\n",
              "      <th>GOL_AG</th>\n",
              "      <th>cnt</th>\n",
              "      <th>home_winvalue_2018</th>\n",
              "      <th>away_winvalue_2018</th>\n",
              "      <th>win_lose</th>\n",
              "    </tr>\n",
              "  </thead>\n",
              "  <tbody>\n",
              "    <tr>\n",
              "      <th>0</th>\n",
              "      <td>Man United</td>\n",
              "      <td>2</td>\n",
              "      <td>1</td>\n",
              "      <td>1</td>\n",
              "      <td>1.0</td>\n",
              "      <td>0.0</td>\n",
              "      <td>1</td>\n",
              "    </tr>\n",
              "    <tr>\n",
              "      <th>1</th>\n",
              "      <td>Bournemouth</td>\n",
              "      <td>2</td>\n",
              "      <td>0</td>\n",
              "      <td>1</td>\n",
              "      <td>1.0</td>\n",
              "      <td>0.0</td>\n",
              "      <td>1</td>\n",
              "    </tr>\n",
              "    <tr>\n",
              "      <th>2</th>\n",
              "      <td>Fulham</td>\n",
              "      <td>0</td>\n",
              "      <td>2</td>\n",
              "      <td>1</td>\n",
              "      <td>0.0</td>\n",
              "      <td>1.0</td>\n",
              "      <td>0</td>\n",
              "    </tr>\n",
              "    <tr>\n",
              "      <th>3</th>\n",
              "      <td>Huddersfield</td>\n",
              "      <td>0</td>\n",
              "      <td>3</td>\n",
              "      <td>1</td>\n",
              "      <td>0.0</td>\n",
              "      <td>1.0</td>\n",
              "      <td>0</td>\n",
              "    </tr>\n",
              "    <tr>\n",
              "      <th>4</th>\n",
              "      <td>Newcastle</td>\n",
              "      <td>1</td>\n",
              "      <td>2</td>\n",
              "      <td>1</td>\n",
              "      <td>0.0</td>\n",
              "      <td>1.0</td>\n",
              "      <td>0</td>\n",
              "    </tr>\n",
              "  </tbody>\n",
              "</table>\n",
              "</div>"
            ],
            "text/plain": [
              "           team  GOL_FOR  ...  away_winvalue_2018  win_lose\n",
              "0    Man United        2  ...                 0.0         1\n",
              "1   Bournemouth        2  ...                 0.0         1\n",
              "2        Fulham        0  ...                 1.0         0\n",
              "3  Huddersfield        0  ...                 1.0         0\n",
              "4     Newcastle        1  ...                 1.0         0\n",
              "\n",
              "[5 rows x 7 columns]"
            ]
          },
          "metadata": {
            "tags": []
          },
          "execution_count": 78
        }
      ]
    },
    {
      "cell_type": "markdown",
      "metadata": {
        "id": "gPMFHeDEk8__"
      },
      "source": [
        "AwayTeam dataframe"
      ]
    },
    {
      "cell_type": "code",
      "metadata": {
        "colab": {
          "base_uri": "https://localhost:8080/",
          "height": 204
        },
        "id": "r3YDSxm5k7Zx",
        "outputId": "e3b26b41-905e-43be-dce3-73106933781b"
      },
      "source": [
        "df_away = df_new[['AwayTeam','FTAG','FTHG','cnt','home_winvalue_2018'\t,'away_winvalue_2018','FTR_A']]\n",
        "df_away = df_away.rename(columns={'AwayTeam':'team', 'FTAG':'GOL_FOR','FTHG':'GOL_AG', 'FTR_A':'win_lose'})\n",
        "df_away.head()"
      ],
      "execution_count": 79,
      "outputs": [
        {
          "output_type": "execute_result",
          "data": {
            "text/html": [
              "<div>\n",
              "<style scoped>\n",
              "    .dataframe tbody tr th:only-of-type {\n",
              "        vertical-align: middle;\n",
              "    }\n",
              "\n",
              "    .dataframe tbody tr th {\n",
              "        vertical-align: top;\n",
              "    }\n",
              "\n",
              "    .dataframe thead th {\n",
              "        text-align: right;\n",
              "    }\n",
              "</style>\n",
              "<table border=\"1\" class=\"dataframe\">\n",
              "  <thead>\n",
              "    <tr style=\"text-align: right;\">\n",
              "      <th></th>\n",
              "      <th>team</th>\n",
              "      <th>GOL_FOR</th>\n",
              "      <th>GOL_AG</th>\n",
              "      <th>cnt</th>\n",
              "      <th>home_winvalue_2018</th>\n",
              "      <th>away_winvalue_2018</th>\n",
              "      <th>win_lose</th>\n",
              "    </tr>\n",
              "  </thead>\n",
              "  <tbody>\n",
              "    <tr>\n",
              "      <th>0</th>\n",
              "      <td>Leicester</td>\n",
              "      <td>1</td>\n",
              "      <td>2</td>\n",
              "      <td>1</td>\n",
              "      <td>1.0</td>\n",
              "      <td>0.0</td>\n",
              "      <td>0</td>\n",
              "    </tr>\n",
              "    <tr>\n",
              "      <th>1</th>\n",
              "      <td>Cardiff</td>\n",
              "      <td>0</td>\n",
              "      <td>2</td>\n",
              "      <td>1</td>\n",
              "      <td>1.0</td>\n",
              "      <td>0.0</td>\n",
              "      <td>0</td>\n",
              "    </tr>\n",
              "    <tr>\n",
              "      <th>2</th>\n",
              "      <td>Crystal Palace</td>\n",
              "      <td>2</td>\n",
              "      <td>0</td>\n",
              "      <td>1</td>\n",
              "      <td>0.0</td>\n",
              "      <td>1.0</td>\n",
              "      <td>1</td>\n",
              "    </tr>\n",
              "    <tr>\n",
              "      <th>3</th>\n",
              "      <td>Chelsea</td>\n",
              "      <td>3</td>\n",
              "      <td>0</td>\n",
              "      <td>1</td>\n",
              "      <td>0.0</td>\n",
              "      <td>1.0</td>\n",
              "      <td>1</td>\n",
              "    </tr>\n",
              "    <tr>\n",
              "      <th>4</th>\n",
              "      <td>Tottenham</td>\n",
              "      <td>2</td>\n",
              "      <td>1</td>\n",
              "      <td>1</td>\n",
              "      <td>0.0</td>\n",
              "      <td>1.0</td>\n",
              "      <td>1</td>\n",
              "    </tr>\n",
              "  </tbody>\n",
              "</table>\n",
              "</div>"
            ],
            "text/plain": [
              "             team  GOL_FOR  ...  away_winvalue_2018  win_lose\n",
              "0       Leicester        1  ...                 0.0         0\n",
              "1         Cardiff        0  ...                 0.0         0\n",
              "2  Crystal Palace        2  ...                 1.0         1\n",
              "3         Chelsea        3  ...                 1.0         1\n",
              "4       Tottenham        2  ...                 1.0         1\n",
              "\n",
              "[5 rows x 7 columns]"
            ]
          },
          "metadata": {
            "tags": []
          },
          "execution_count": 79
        }
      ]
    },
    {
      "cell_type": "markdown",
      "metadata": {
        "id": "CVDWwCj0mEGF"
      },
      "source": [
        "It is time to concat the Away dataframe and the Home dataframe to create a new dataframe with goals for and goals against"
      ]
    },
    {
      "cell_type": "code",
      "metadata": {
        "colab": {
          "base_uri": "https://localhost:8080/",
          "height": 204
        },
        "id": "WwXJ6jdxlN17",
        "outputId": "adb81cbf-3543-428d-e22d-e38ae4b14e20"
      },
      "source": [
        "english_df = pd.concat([df_home, df_away]).sort_values(by='team')\n",
        "english_df.head()"
      ],
      "execution_count": 80,
      "outputs": [
        {
          "output_type": "execute_result",
          "data": {
            "text/html": [
              "<div>\n",
              "<style scoped>\n",
              "    .dataframe tbody tr th:only-of-type {\n",
              "        vertical-align: middle;\n",
              "    }\n",
              "\n",
              "    .dataframe tbody tr th {\n",
              "        vertical-align: top;\n",
              "    }\n",
              "\n",
              "    .dataframe thead th {\n",
              "        text-align: right;\n",
              "    }\n",
              "</style>\n",
              "<table border=\"1\" class=\"dataframe\">\n",
              "  <thead>\n",
              "    <tr style=\"text-align: right;\">\n",
              "      <th></th>\n",
              "      <th>team</th>\n",
              "      <th>GOL_FOR</th>\n",
              "      <th>GOL_AG</th>\n",
              "      <th>cnt</th>\n",
              "      <th>home_winvalue_2018</th>\n",
              "      <th>away_winvalue_2018</th>\n",
              "      <th>win_lose</th>\n",
              "    </tr>\n",
              "  </thead>\n",
              "  <tbody>\n",
              "    <tr>\n",
              "      <th>323</th>\n",
              "      <td>Arsenal</td>\n",
              "      <td>0</td>\n",
              "      <td>1</td>\n",
              "      <td>1</td>\n",
              "      <td>1.0</td>\n",
              "      <td>0.0</td>\n",
              "      <td>0</td>\n",
              "    </tr>\n",
              "    <tr>\n",
              "      <th>200</th>\n",
              "      <td>Arsenal</td>\n",
              "      <td>4</td>\n",
              "      <td>1</td>\n",
              "      <td>1</td>\n",
              "      <td>1.0</td>\n",
              "      <td>0.0</td>\n",
              "      <td>1</td>\n",
              "    </tr>\n",
              "    <tr>\n",
              "      <th>147</th>\n",
              "      <td>Arsenal</td>\n",
              "      <td>2</td>\n",
              "      <td>2</td>\n",
              "      <td>1</td>\n",
              "      <td>0.5</td>\n",
              "      <td>0.5</td>\n",
              "      <td>0</td>\n",
              "    </tr>\n",
              "    <tr>\n",
              "      <th>248</th>\n",
              "      <td>Arsenal</td>\n",
              "      <td>1</td>\n",
              "      <td>3</td>\n",
              "      <td>1</td>\n",
              "      <td>1.0</td>\n",
              "      <td>0.0</td>\n",
              "      <td>0</td>\n",
              "    </tr>\n",
              "    <tr>\n",
              "      <th>371</th>\n",
              "      <td>Arsenal</td>\n",
              "      <td>3</td>\n",
              "      <td>1</td>\n",
              "      <td>1</td>\n",
              "      <td>0.0</td>\n",
              "      <td>1.0</td>\n",
              "      <td>1</td>\n",
              "    </tr>\n",
              "  </tbody>\n",
              "</table>\n",
              "</div>"
            ],
            "text/plain": [
              "        team  GOL_FOR  GOL_AG  ...  home_winvalue_2018  away_winvalue_2018  win_lose\n",
              "323  Arsenal        0       1  ...                 1.0                 0.0         0\n",
              "200  Arsenal        4       1  ...                 1.0                 0.0         1\n",
              "147  Arsenal        2       2  ...                 0.5                 0.5         0\n",
              "248  Arsenal        1       3  ...                 1.0                 0.0         0\n",
              "371  Arsenal        3       1  ...                 0.0                 1.0         1\n",
              "\n",
              "[5 rows x 7 columns]"
            ]
          },
          "metadata": {
            "tags": []
          },
          "execution_count": 80
        }
      ]
    },
    {
      "cell_type": "markdown",
      "metadata": {
        "id": "iMxDBjAEkSmh"
      },
      "source": [
        "It is time to determine the pythagorean win percentage.\n",
        "<p>First, it will be calculated the cumulative gol."
      ]
    },
    {
      "cell_type": "code",
      "metadata": {
        "colab": {
          "base_uri": "https://localhost:8080/",
          "height": 419
        },
        "id": "FP_Tm1A3kSmi",
        "outputId": "401c761f-6f9b-498c-de80-49dfe1cc1d03"
      },
      "source": [
        "english_df['cumGF'] = english_df.groupby(['team'])['GOL_FOR'].apply(lambda x: x.cumsum())\n",
        "english_df['cumGA'] = english_df.groupby(['team'])['GOL_AG'].apply(lambda x: x.cumsum())\n",
        "english_df"
      ],
      "execution_count": 81,
      "outputs": [
        {
          "output_type": "execute_result",
          "data": {
            "text/html": [
              "<div>\n",
              "<style scoped>\n",
              "    .dataframe tbody tr th:only-of-type {\n",
              "        vertical-align: middle;\n",
              "    }\n",
              "\n",
              "    .dataframe tbody tr th {\n",
              "        vertical-align: top;\n",
              "    }\n",
              "\n",
              "    .dataframe thead th {\n",
              "        text-align: right;\n",
              "    }\n",
              "</style>\n",
              "<table border=\"1\" class=\"dataframe\">\n",
              "  <thead>\n",
              "    <tr style=\"text-align: right;\">\n",
              "      <th></th>\n",
              "      <th>team</th>\n",
              "      <th>GOL_FOR</th>\n",
              "      <th>GOL_AG</th>\n",
              "      <th>cnt</th>\n",
              "      <th>home_winvalue_2018</th>\n",
              "      <th>away_winvalue_2018</th>\n",
              "      <th>win_lose</th>\n",
              "      <th>cumGF</th>\n",
              "      <th>cumGA</th>\n",
              "    </tr>\n",
              "  </thead>\n",
              "  <tbody>\n",
              "    <tr>\n",
              "      <th>323</th>\n",
              "      <td>Arsenal</td>\n",
              "      <td>0</td>\n",
              "      <td>1</td>\n",
              "      <td>1</td>\n",
              "      <td>1.0</td>\n",
              "      <td>0.0</td>\n",
              "      <td>0</td>\n",
              "      <td>0</td>\n",
              "      <td>1</td>\n",
              "    </tr>\n",
              "    <tr>\n",
              "      <th>200</th>\n",
              "      <td>Arsenal</td>\n",
              "      <td>4</td>\n",
              "      <td>1</td>\n",
              "      <td>1</td>\n",
              "      <td>1.0</td>\n",
              "      <td>0.0</td>\n",
              "      <td>1</td>\n",
              "      <td>4</td>\n",
              "      <td>2</td>\n",
              "    </tr>\n",
              "    <tr>\n",
              "      <th>147</th>\n",
              "      <td>Arsenal</td>\n",
              "      <td>2</td>\n",
              "      <td>2</td>\n",
              "      <td>1</td>\n",
              "      <td>0.5</td>\n",
              "      <td>0.5</td>\n",
              "      <td>0</td>\n",
              "      <td>6</td>\n",
              "      <td>4</td>\n",
              "    </tr>\n",
              "    <tr>\n",
              "      <th>248</th>\n",
              "      <td>Arsenal</td>\n",
              "      <td>1</td>\n",
              "      <td>3</td>\n",
              "      <td>1</td>\n",
              "      <td>1.0</td>\n",
              "      <td>0.0</td>\n",
              "      <td>0</td>\n",
              "      <td>7</td>\n",
              "      <td>7</td>\n",
              "    </tr>\n",
              "    <tr>\n",
              "      <th>371</th>\n",
              "      <td>Arsenal</td>\n",
              "      <td>3</td>\n",
              "      <td>1</td>\n",
              "      <td>1</td>\n",
              "      <td>0.0</td>\n",
              "      <td>1.0</td>\n",
              "      <td>1</td>\n",
              "      <td>10</td>\n",
              "      <td>8</td>\n",
              "    </tr>\n",
              "    <tr>\n",
              "      <th>...</th>\n",
              "      <td>...</td>\n",
              "      <td>...</td>\n",
              "      <td>...</td>\n",
              "      <td>...</td>\n",
              "      <td>...</td>\n",
              "      <td>...</td>\n",
              "      <td>...</td>\n",
              "      <td>...</td>\n",
              "      <td>...</td>\n",
              "    </tr>\n",
              "    <tr>\n",
              "      <th>227</th>\n",
              "      <td>Wolves</td>\n",
              "      <td>4</td>\n",
              "      <td>3</td>\n",
              "      <td>1</td>\n",
              "      <td>1.0</td>\n",
              "      <td>0.0</td>\n",
              "      <td>1</td>\n",
              "      <td>43</td>\n",
              "      <td>40</td>\n",
              "    </tr>\n",
              "    <tr>\n",
              "      <th>208</th>\n",
              "      <td>Wolves</td>\n",
              "      <td>0</td>\n",
              "      <td>2</td>\n",
              "      <td>1</td>\n",
              "      <td>0.0</td>\n",
              "      <td>1.0</td>\n",
              "      <td>0</td>\n",
              "      <td>43</td>\n",
              "      <td>42</td>\n",
              "    </tr>\n",
              "    <tr>\n",
              "      <th>170</th>\n",
              "      <td>Wolves</td>\n",
              "      <td>0</td>\n",
              "      <td>2</td>\n",
              "      <td>1</td>\n",
              "      <td>0.0</td>\n",
              "      <td>1.0</td>\n",
              "      <td>0</td>\n",
              "      <td>43</td>\n",
              "      <td>44</td>\n",
              "    </tr>\n",
              "    <tr>\n",
              "      <th>149</th>\n",
              "      <td>Wolves</td>\n",
              "      <td>2</td>\n",
              "      <td>1</td>\n",
              "      <td>1</td>\n",
              "      <td>1.0</td>\n",
              "      <td>0.0</td>\n",
              "      <td>1</td>\n",
              "      <td>45</td>\n",
              "      <td>45</td>\n",
              "    </tr>\n",
              "    <tr>\n",
              "      <th>315</th>\n",
              "      <td>Wolves</td>\n",
              "      <td>2</td>\n",
              "      <td>1</td>\n",
              "      <td>1</td>\n",
              "      <td>1.0</td>\n",
              "      <td>0.0</td>\n",
              "      <td>1</td>\n",
              "      <td>47</td>\n",
              "      <td>46</td>\n",
              "    </tr>\n",
              "  </tbody>\n",
              "</table>\n",
              "<p>760 rows × 9 columns</p>\n",
              "</div>"
            ],
            "text/plain": [
              "        team  GOL_FOR  GOL_AG  cnt  ...  away_winvalue_2018  win_lose  cumGF  cumGA\n",
              "323  Arsenal        0       1    1  ...                 0.0         0      0      1\n",
              "200  Arsenal        4       1    1  ...                 0.0         1      4      2\n",
              "147  Arsenal        2       2    1  ...                 0.5         0      6      4\n",
              "248  Arsenal        1       3    1  ...                 0.0         0      7      7\n",
              "371  Arsenal        3       1    1  ...                 1.0         1     10      8\n",
              "..       ...      ...     ...  ...  ...                 ...       ...    ...    ...\n",
              "227   Wolves        4       3    1  ...                 0.0         1     43     40\n",
              "208   Wolves        0       2    1  ...                 1.0         0     43     42\n",
              "170   Wolves        0       2    1  ...                 1.0         0     43     44\n",
              "149   Wolves        2       1    1  ...                 0.0         1     45     45\n",
              "315   Wolves        2       1    1  ...                 0.0         1     47     46\n",
              "\n",
              "[760 rows x 9 columns]"
            ]
          },
          "metadata": {
            "tags": []
          },
          "execution_count": 81
        }
      ]
    },
    {
      "cell_type": "markdown",
      "metadata": {
        "id": "pUdHjfepkSmk"
      },
      "source": [
        "Calculation of Pythagorean win percent.\n",
        "<p> Pythagorean win percentage = ((cumulative Gol For)**2/((cumulative Gol For)**2 + (cumulative gol Agains)**2)\n"
      ]
    },
    {
      "cell_type": "code",
      "metadata": {
        "colab": {
          "base_uri": "https://localhost:8080/",
          "height": 204
        },
        "id": "Q7UctnX2kSml",
        "outputId": "f6103e26-9ce9-4f21-a3e5-0a755736813d"
      },
      "source": [
        "english_df['pyth_wpct'] = english_df['cumGF']**2/(english_df['cumGF']**2+english_df['cumGA']**2)\n",
        "english_df.head()"
      ],
      "execution_count": 82,
      "outputs": [
        {
          "output_type": "execute_result",
          "data": {
            "text/html": [
              "<div>\n",
              "<style scoped>\n",
              "    .dataframe tbody tr th:only-of-type {\n",
              "        vertical-align: middle;\n",
              "    }\n",
              "\n",
              "    .dataframe tbody tr th {\n",
              "        vertical-align: top;\n",
              "    }\n",
              "\n",
              "    .dataframe thead th {\n",
              "        text-align: right;\n",
              "    }\n",
              "</style>\n",
              "<table border=\"1\" class=\"dataframe\">\n",
              "  <thead>\n",
              "    <tr style=\"text-align: right;\">\n",
              "      <th></th>\n",
              "      <th>team</th>\n",
              "      <th>GOL_FOR</th>\n",
              "      <th>GOL_AG</th>\n",
              "      <th>cnt</th>\n",
              "      <th>home_winvalue_2018</th>\n",
              "      <th>away_winvalue_2018</th>\n",
              "      <th>win_lose</th>\n",
              "      <th>cumGF</th>\n",
              "      <th>cumGA</th>\n",
              "      <th>pyth_wpct</th>\n",
              "    </tr>\n",
              "  </thead>\n",
              "  <tbody>\n",
              "    <tr>\n",
              "      <th>323</th>\n",
              "      <td>Arsenal</td>\n",
              "      <td>0</td>\n",
              "      <td>1</td>\n",
              "      <td>1</td>\n",
              "      <td>1.0</td>\n",
              "      <td>0.0</td>\n",
              "      <td>0</td>\n",
              "      <td>0</td>\n",
              "      <td>1</td>\n",
              "      <td>0.000000</td>\n",
              "    </tr>\n",
              "    <tr>\n",
              "      <th>200</th>\n",
              "      <td>Arsenal</td>\n",
              "      <td>4</td>\n",
              "      <td>1</td>\n",
              "      <td>1</td>\n",
              "      <td>1.0</td>\n",
              "      <td>0.0</td>\n",
              "      <td>1</td>\n",
              "      <td>4</td>\n",
              "      <td>2</td>\n",
              "      <td>0.800000</td>\n",
              "    </tr>\n",
              "    <tr>\n",
              "      <th>147</th>\n",
              "      <td>Arsenal</td>\n",
              "      <td>2</td>\n",
              "      <td>2</td>\n",
              "      <td>1</td>\n",
              "      <td>0.5</td>\n",
              "      <td>0.5</td>\n",
              "      <td>0</td>\n",
              "      <td>6</td>\n",
              "      <td>4</td>\n",
              "      <td>0.692308</td>\n",
              "    </tr>\n",
              "    <tr>\n",
              "      <th>248</th>\n",
              "      <td>Arsenal</td>\n",
              "      <td>1</td>\n",
              "      <td>3</td>\n",
              "      <td>1</td>\n",
              "      <td>1.0</td>\n",
              "      <td>0.0</td>\n",
              "      <td>0</td>\n",
              "      <td>7</td>\n",
              "      <td>7</td>\n",
              "      <td>0.500000</td>\n",
              "    </tr>\n",
              "    <tr>\n",
              "      <th>371</th>\n",
              "      <td>Arsenal</td>\n",
              "      <td>3</td>\n",
              "      <td>1</td>\n",
              "      <td>1</td>\n",
              "      <td>0.0</td>\n",
              "      <td>1.0</td>\n",
              "      <td>1</td>\n",
              "      <td>10</td>\n",
              "      <td>8</td>\n",
              "      <td>0.609756</td>\n",
              "    </tr>\n",
              "  </tbody>\n",
              "</table>\n",
              "</div>"
            ],
            "text/plain": [
              "        team  GOL_FOR  GOL_AG  cnt  ...  win_lose  cumGF  cumGA  pyth_wpct\n",
              "323  Arsenal        0       1    1  ...         0      0      1   0.000000\n",
              "200  Arsenal        4       1    1  ...         1      4      2   0.800000\n",
              "147  Arsenal        2       2    1  ...         0      6      4   0.692308\n",
              "248  Arsenal        1       3    1  ...         0      7      7   0.500000\n",
              "371  Arsenal        3       1    1  ...         1     10      8   0.609756\n",
              "\n",
              "[5 rows x 10 columns]"
            ]
          },
          "metadata": {
            "tags": []
          },
          "execution_count": 82
        }
      ]
    },
    {
      "cell_type": "markdown",
      "metadata": {
        "id": "sGNpWWQ2oxnK"
      },
      "source": [
        "To predict victory or defeat, as a result, the draws will be removed from the dataset."
      ]
    },
    {
      "cell_type": "code",
      "metadata": {
        "colab": {
          "base_uri": "https://localhost:8080/",
          "height": 204
        },
        "id": "kY6BrjeCwW-9",
        "outputId": "8a5745b9-fe5d-4f08-a12d-4e2f9fe5290a"
      },
      "source": [
        "#Remove draws\n",
        "english_removed_draw_df = english_df.loc[english_df.home_winvalue_2018!=0.5].copy()\n",
        "english_removed_draw_df.head()"
      ],
      "execution_count": 83,
      "outputs": [
        {
          "output_type": "execute_result",
          "data": {
            "text/html": [
              "<div>\n",
              "<style scoped>\n",
              "    .dataframe tbody tr th:only-of-type {\n",
              "        vertical-align: middle;\n",
              "    }\n",
              "\n",
              "    .dataframe tbody tr th {\n",
              "        vertical-align: top;\n",
              "    }\n",
              "\n",
              "    .dataframe thead th {\n",
              "        text-align: right;\n",
              "    }\n",
              "</style>\n",
              "<table border=\"1\" class=\"dataframe\">\n",
              "  <thead>\n",
              "    <tr style=\"text-align: right;\">\n",
              "      <th></th>\n",
              "      <th>team</th>\n",
              "      <th>GOL_FOR</th>\n",
              "      <th>GOL_AG</th>\n",
              "      <th>cnt</th>\n",
              "      <th>home_winvalue_2018</th>\n",
              "      <th>away_winvalue_2018</th>\n",
              "      <th>win_lose</th>\n",
              "      <th>cumGF</th>\n",
              "      <th>cumGA</th>\n",
              "      <th>pyth_wpct</th>\n",
              "    </tr>\n",
              "  </thead>\n",
              "  <tbody>\n",
              "    <tr>\n",
              "      <th>323</th>\n",
              "      <td>Arsenal</td>\n",
              "      <td>0</td>\n",
              "      <td>1</td>\n",
              "      <td>1</td>\n",
              "      <td>1.0</td>\n",
              "      <td>0.0</td>\n",
              "      <td>0</td>\n",
              "      <td>0</td>\n",
              "      <td>1</td>\n",
              "      <td>0.000000</td>\n",
              "    </tr>\n",
              "    <tr>\n",
              "      <th>200</th>\n",
              "      <td>Arsenal</td>\n",
              "      <td>4</td>\n",
              "      <td>1</td>\n",
              "      <td>1</td>\n",
              "      <td>1.0</td>\n",
              "      <td>0.0</td>\n",
              "      <td>1</td>\n",
              "      <td>4</td>\n",
              "      <td>2</td>\n",
              "      <td>0.800000</td>\n",
              "    </tr>\n",
              "    <tr>\n",
              "      <th>248</th>\n",
              "      <td>Arsenal</td>\n",
              "      <td>1</td>\n",
              "      <td>3</td>\n",
              "      <td>1</td>\n",
              "      <td>1.0</td>\n",
              "      <td>0.0</td>\n",
              "      <td>0</td>\n",
              "      <td>7</td>\n",
              "      <td>7</td>\n",
              "      <td>0.500000</td>\n",
              "    </tr>\n",
              "    <tr>\n",
              "      <th>371</th>\n",
              "      <td>Arsenal</td>\n",
              "      <td>3</td>\n",
              "      <td>1</td>\n",
              "      <td>1</td>\n",
              "      <td>0.0</td>\n",
              "      <td>1.0</td>\n",
              "      <td>1</td>\n",
              "      <td>10</td>\n",
              "      <td>8</td>\n",
              "      <td>0.609756</td>\n",
              "    </tr>\n",
              "    <tr>\n",
              "      <th>342</th>\n",
              "      <td>Arsenal</td>\n",
              "      <td>2</td>\n",
              "      <td>3</td>\n",
              "      <td>1</td>\n",
              "      <td>0.0</td>\n",
              "      <td>1.0</td>\n",
              "      <td>0</td>\n",
              "      <td>12</td>\n",
              "      <td>11</td>\n",
              "      <td>0.543396</td>\n",
              "    </tr>\n",
              "  </tbody>\n",
              "</table>\n",
              "</div>"
            ],
            "text/plain": [
              "        team  GOL_FOR  GOL_AG  cnt  ...  win_lose  cumGF  cumGA  pyth_wpct\n",
              "323  Arsenal        0       1    1  ...         0      0      1   0.000000\n",
              "200  Arsenal        4       1    1  ...         1      4      2   0.800000\n",
              "248  Arsenal        1       3    1  ...         0      7      7   0.500000\n",
              "371  Arsenal        3       1    1  ...         1     10      8   0.609756\n",
              "342  Arsenal        2       3    1  ...         0     12     11   0.543396\n",
              "\n",
              "[5 rows x 10 columns]"
            ]
          },
          "metadata": {
            "tags": []
          },
          "execution_count": 83
        }
      ]
    },
    {
      "cell_type": "markdown",
      "metadata": {
        "id": "K3DYnL_iprER"
      },
      "source": [
        "Let's implement the logistic regression to predict the outcomes according to the pythagorean win percentage. "
      ]
    },
    {
      "cell_type": "markdown",
      "metadata": {
        "id": "koELe7-PoQ0N"
      },
      "source": [
        "First, determine X,y to the logistic Model"
      ]
    },
    {
      "cell_type": "code",
      "metadata": {
        "id": "7xUb9goboQLX"
      },
      "source": [
        "X =  english_removed_draw_df.pyth_wpct.to_numpy()\n",
        "y = english_removed_draw_df.win_lose.to_numpy()"
      ],
      "execution_count": 84,
      "outputs": []
    },
    {
      "cell_type": "markdown",
      "metadata": {
        "id": "qcyBc21hqQIZ"
      },
      "source": [
        "Second, the loss function that will be implemented is the Ordinary Least Squares. To optimize with this loss function is not necesary to find the gradient, tensorflow library will do all the job."
      ]
    },
    {
      "cell_type": "code",
      "metadata": {
        "colab": {
          "base_uri": "https://localhost:8080/"
        },
        "id": "g7dOoHq_uHTb",
        "outputId": "9964fa2d-219f-4ff3-d177-ab11fb013244"
      },
      "source": [
        "import tensorflow as tf\n",
        "\n",
        "#Stochastic Gradient Descent \n",
        "sgd = tf.keras.optimizers.SGD(learning_rate=0.01, momentum=0.9)\n",
        "#Weights to optimize in the equation.\n",
        "var = tf.Variable([0.3])\n",
        "var1 = tf.Variable([0.3])\n",
        "\n",
        "expo = (-1*(var + (var1*X)))\n",
        "#Logistic Function\n",
        "log_func = 1/(1+(tf.math.exp(expo)))\n",
        "#Cost function\n",
        "cost = lambda : ((1/(1+(tf.math.exp(-1*(var + (var1 * X ))))))-y)**2 \n",
        "\n",
        "\n",
        "#Optimization\n",
        "for _ in range(20):\n",
        "  sgd.minimize(cost,  var_list=[var,var1])\n",
        "\n",
        "predict =  1/(1+tf.math.exp(-1*(var+var1*X)))\n",
        "\n",
        "#Become de predictions to final outcomes.\n",
        "y_pred = [1 if pred > 0.5 else 0 for pred in predict]\n",
        "print(f'Some of the final results calculated : {y_pred[:5]}')"
      ],
      "execution_count": 85,
      "outputs": [
        {
          "output_type": "stream",
          "text": [
            "Some of the final results calculated : [0, 1, 1, 1, 1]\n"
          ],
          "name": "stdout"
        }
      ]
    },
    {
      "cell_type": "markdown",
      "metadata": {
        "id": "yYFURKzmvoPR"
      },
      "source": [
        "Plotting the logistic regression results."
      ]
    },
    {
      "cell_type": "code",
      "metadata": {
        "colab": {
          "base_uri": "https://localhost:8080/",
          "height": 283
        },
        "id": "Smt0Ex35vTqs",
        "outputId": "a61e4c8f-5627-4f79-9586-97757e967672"
      },
      "source": [
        "sns.scatterplot(x=X, y=predict)"
      ],
      "execution_count": 86,
      "outputs": [
        {
          "output_type": "execute_result",
          "data": {
            "text/plain": [
              "<matplotlib.axes._subplots.AxesSubplot at 0x7f64dc2e4590>"
            ]
          },
          "metadata": {
            "tags": []
          },
          "execution_count": 86
        },
        {
          "output_type": "display_data",
          "data": {
            "image/png": "[encoded data removed]",
            "text/plain": [
              "<Figure size 432x288 with 1 Axes>"
            ]
          },
          "metadata": {
            "tags": [],
            "needs_background": "light"
          }
        }
      ]
    },
    {
      "cell_type": "markdown",
      "metadata": {
        "id": "8NqGy2Egr_Aj"
      },
      "source": [
        "Finally, the confustion matrix helps us to calculate the percentage of the correct classified results."
      ]
    },
    {
      "cell_type": "code",
      "metadata": {
        "id": "AcGXx2rTJ8lH",
        "colab": {
          "base_uri": "https://localhost:8080/"
        },
        "outputId": "e95240a7-47fd-4c4e-f584-6e7d976660de"
      },
      "source": [
        "True_victories,False_victories,False_losses,True_losses, = confusion_matrix(y, y_pred).ravel()\n",
        "print(f'Predicted as :\\nTrue victories : {True_victories}\\nFalse victories: {False_victories}\\nTrue losses: {True_losses}\\nFalse Losses: {False_losses}' )\n",
        "print(f'Percentage true corrected classified : {(True_victories+True_losses)/(True_victories+True_losses+False_victories+False_losses)*100}%')\n"
      ],
      "execution_count": 87,
      "outputs": [
        {
          "output_type": "stream",
          "text": [
            "Predicted as :\n",
            "True victories : 223\n",
            "False victories: 86\n",
            "True losses: 212\n",
            "False Losses: 97\n",
            "Percentage true corrected classified : 70.3883495145631%\n"
          ],
          "name": "stdout"
        }
      ]
    },
    {
      "cell_type": "markdown",
      "metadata": {
        "id": "tcrbUsUGvDCD"
      },
      "source": [
        "<p> The logistic regression classifier was train with all the data available, the next step is to evaluate with next matches that are not able in the data to see, actually, how well is the perfomance of the model.<p>\n",
        "<p>Modified the learning rate is a great exercise to see how the above plot and the predictions change<p>\n",
        "<H3>Thanks!!</H3>\n"
      ]
    }
  ]
}